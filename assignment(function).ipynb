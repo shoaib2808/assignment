{
  "nbformat": 4,
  "nbformat_minor": 0,
  "metadata": {
    "colab": {
      "provenance": []
    },
    "kernelspec": {
      "name": "python3",
      "display_name": "Python 3"
    },
    "language_info": {
      "name": "python"
    }
  },
  "cells": [
    {
      "cell_type": "markdown",
      "source": [
        "##ASSIGNMENT"
      ],
      "metadata": {
        "id": "zd4zeXfRdTFc"
      }
    },
    {
      "cell_type": "markdown",
      "source": [
        "1. write a function which will try to find out len of a string without using an inbuilt len function"
      ],
      "metadata": {
        "id": "FWzinpGtdXUL"
      }
    },
    {
      "cell_type": "code",
      "execution_count": null,
      "metadata": {
        "id": "2HaaWC0FY4QT"
      },
      "outputs": [],
      "source": [
        "def lenght(s):\n",
        "  count=0\n",
        "  for i in s:\n",
        "    count=count+1\n",
        "  return count\n",
        "  \n"
      ]
    },
    {
      "cell_type": "markdown",
      "source": [
        "2. write a function which  will be able to print an index of list element without using an index function"
      ],
      "metadata": {
        "id": "V966lk7Edo0q"
      }
    },
    {
      "cell_type": "code",
      "source": [
        "def index_element(lst,element):\n",
        "  index=0\n",
        "  for i in lst:\n",
        "    if(i==element):\n",
        "      return index\n",
        "    index=index+1\n",
        "\n",
        "\n"
      ],
      "metadata": {
        "id": "Xje2MXNFdskx"
      },
      "execution_count": 1,
      "outputs": []
    },
    {
      "cell_type": "markdown",
      "source": [
        "3. write a function which will be able to print an ip address of your system"
      ],
      "metadata": {
        "id": "ZCjuIfWYedTT"
      }
    },
    {
      "cell_type": "markdown",
      "source": [
        "4. write a function which will shutdown your system"
      ],
      "metadata": {
        "id": "Oi3OQIJSegmu"
      }
    },
    {
      "cell_type": "code",
      "source": [
        "import os\n",
        "def shutdown():\n",
        "  i=input(\"Want to shutdown the system y/n\")\n",
        "  if(i==\"y\"):\n",
        "    os.system(\"shutdown /s /t 1\")\n",
        "  else:\n",
        "    exit()"
      ],
      "metadata": {
        "id": "UCLDWH1WeOx2"
      },
      "execution_count": null,
      "outputs": []
    },
    {
      "cell_type": "markdown",
      "source": [
        "5. write a function which will take input as a list with any kind of numeric value and give an out as a multiplication of \n",
        "all the numeric data l = [3.5, 6.56, 4,5,\"sudh\" , \"ineuron\" , 'fsda bootcamp 2.0']"
      ],
      "metadata": {
        "id": "fUBlyUdieo99"
      }
    },
    {
      "cell_type": "code",
      "source": [
        "import socket\n",
        "hostname = socket.gethostname()\n",
        "IPAddr = socket.gethostbyname(hostname)\n",
        " \n",
        "print(\"Your Computer Name is:\" + hostname)\n",
        "print(\"Your Computer IP Address is:\" + IPAddr)"
      ],
      "metadata": {
        "id": "9-dSC2eSgOAI"
      },
      "execution_count": null,
      "outputs": []
    },
    {
      "cell_type": "code",
      "source": [
        "\n",
        "def mul_list(lst):\n",
        "  mul=1\n",
        "  for i in lst:\n",
        "    if(type(i)==int or type(i)==float):\n",
        "      mul=mul*i\n",
        "  return mul "
      ],
      "metadata": {
        "id": "RTd3nRwLeUSS"
      },
      "execution_count": 4,
      "outputs": []
    },
    {
      "cell_type": "markdown",
      "source": [
        "8. write a function which will be able to read a doc/word file from your system "
      ],
      "metadata": {
        "id": "UXQPODTxfbHF"
      }
    },
    {
      "cell_type": "code",
      "source": [
        "def read_file(file):\n",
        "  f=open(file,\"r\")\n",
        "  l=len(f.readlines())\n",
        "  print(l)\n",
        "  f.seek(0)\n",
        "  for i in range(1,l+1):  \n",
        "    print(f.readline())"
      ],
      "metadata": {
        "id": "XjNM1FHZfIq6"
      },
      "execution_count": null,
      "outputs": []
    },
    {
      "cell_type": "code",
      "source": [],
      "metadata": {
        "id": "u23iFQLAfPw0"
      },
      "execution_count": null,
      "outputs": []
    }
  ]
}